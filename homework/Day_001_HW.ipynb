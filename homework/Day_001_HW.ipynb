{
 "cells": [
  {
   "cell_type": "markdown",
   "metadata": {},
   "source": [
    "作業1：\n",
    "\n",
    "請上 Kaggle, 在 Competitions 或 Dataset 中找一組競賽或資料並寫下：\n",
    "\n",
    "1.選的這組資料為何重要\n",
    "\n",
    "TMDB 5000 Movie Dataset (https://www.kaggle.com/tmdb/tmdb-movie-metadata)\n",
    "此份資料包括電影名稱、卡司及工作人員，或許可以從中找出一些電影產業的趨勢或是成功的秘訣。\n",
    "\n",
    "2.資料從何而來 (tips: 譬如提供者是誰、以什麼方式蒐集)\n",
    "\n",
    "The Movie Database API (https://www.themoviedb.org/documentation/api)\n",
    "\n",
    "3.蒐集而來的資料型態為何\n",
    "\n",
    "結構化數據：數值, 表格, ...etc\n",
    "\n",
    "4.這組資料想解決的問題如何評估\n",
    "\n",
    "預測電影的受歡迎程度 > 迴歸問題\n",
    "「回歸指標」:\n",
    "平均均方誤差(Mean Squared Error, MSE)\n",
    "平均絕對誤差(Mean Absolute Error, MAE)\n",
    "平均均方對數誤差(Mean Squared Logarithmic Error, MSLE)\n"
   ]
  },
  {
   "cell_type": "markdown",
   "metadata": {},
   "source": [
    "作業2：\n",
    "\n",
    "想像你經營一個自由載客車隊，你希望能透過數據分析以提升業績，請你思考並描述你如何規劃整體的分析/解決方案：\n",
    "\n",
    "1.核心問題為何 (tips：如何定義 「提升業績 & 你的假設」)\n",
    "\n",
    "在現有的資源下要提升業績，我的假設是 —— 當司機＆乘客的等待/閒置時間降低，就能提升效率＆接單量。\n",
    "我們可以嘗試找出每個時段、地點的潛在客人數量，讓有空閒的司機盡量在適當的時機點出沒，就可以提昇接客效率。\n",
    "\n",
    "2.資料從何而來 (tips：哪些資料可能會對你想問的問題產生影響 & 資料如何蒐集)\n",
    "\n",
    "從車隊的載客資訊 (叫車時間、地點、目的地) 蒐集，或許是電話 / APP 叫車而來的資訊，或許是車載裝置的追蹤器。\n",
    "\n",
    "3.蒐集而來的資料型態為何\n",
    "\n",
    "結構化數據：數值, 表格, ...etc\n",
    "\n",
    "4.你要回答的問題，其如何評估 (tips：你的假設如何驗證)\n",
    "\n",
    "某個時間、地點司機要等多久可以載到客人 > 迴歸\n",
    "「回歸指標」:\n",
    "平均均方誤差(Mean Squared Error, MSE)\n",
    "平均絕對誤差(Mean Absolute Error, MAE)\n",
    "平均均方對數誤差(Mean Squared Logarithmic Error, MSLE)"
   ]
  },
  {
   "cell_type": "code",
   "execution_count": null,
   "metadata": {},
   "outputs": [],
   "source": []
  }
 ],
 "metadata": {
  "kernelspec": {
   "display_name": "Python 3",
   "language": "python",
   "name": "python3"
  },
  "language_info": {
   "codemirror_mode": {
    "name": "ipython",
    "version": 3
   },
   "file_extension": ".py",
   "mimetype": "text/x-python",
   "name": "python",
   "nbconvert_exporter": "python",
   "pygments_lexer": "ipython3",
   "version": "3.7.3"
  }
 },
 "nbformat": 4,
 "nbformat_minor": 2
}

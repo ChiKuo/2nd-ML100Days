{
 "cells": [
  {
   "cell_type": "markdown",
   "metadata": {},
   "source": [
    "# 作業1：\n",
    "\n",
    "#### 請上 Kaggle, 在 Competitions 或 Dataset 中找一組競賽或資料並寫下：\n",
    "\n",
    "#### 1.選的這組資料為何重要\n",
    "\n",
    "TMDB 5000 Movie Dataset (https://www.kaggle.com/tmdb/tmdb-movie-metadata)\n",
    "此份資料包括電影名稱、卡司及工作人員，或許可以從中找出一些電影產業的趨勢或是成功的秘訣。\n",
    "\n",
    "#### 2.資料從何而來 (tips: 譬如提供者是誰、以什麼方式蒐集)\n",
    "\n",
    "The Movie Database API (https://www.themoviedb.org/documentation/api)\n",
    "\n",
    "#### 3.蒐集而來的資料型態為何\n",
    "\n",
    "結構化數據：數值, 表格, ...etc\n",
    "\n",
    "#### 4.這組資料想解決的問題如何評估\n",
    "\n",
    "預測電影的受歡迎程度 → 迴歸問題。\n",
    "「回歸指標」:\n",
    "平均均方誤差(Mean Squared Error, MSE)、\n",
    "平均絕對誤差(Mean Absolute Error, MAE)、\n",
    "平均均方對數誤差(Mean Squared Logarithmic Error, MSLE)\n"
   ]
  },
  {
   "cell_type": "markdown",
   "metadata": {},
   "source": [
    "# 作業2：\n",
    "\n",
    "#### 想像你經營一個自由載客車隊，你希望能透過數據分析以提升業績，請你思考並描述你如何規劃整體的分析/解決方案：\n",
    "\n",
    "#### 1.核心問題為何 (tips：如何定義 「提升業績 & 你的假設」)\n",
    "\n",
    "在現有的資源下要提升業績，我的假設是 —— 當司機＆乘客的等待/閒置時間降低，就能提升效率＆接單量。\n",
    "我們可以嘗試找出每個時段、地點的潛在客人數量，讓有空閒的司機盡量在適當的時機點出沒，就可以提昇接客效率。\n",
    "\n",
    "#### 2.資料從何而來 (tips：哪些資料可能會對你想問的問題產生影響 & 資料如何蒐集)\n",
    "\n",
    "從車隊的載客資訊 (叫車時間、地點、目的地) 蒐集，或許是電話 / APP 叫車而來的資訊，或許是車載裝置的追蹤器。\n",
    "\n",
    "#### 3.蒐集而來的資料型態為何\n",
    "\n",
    "結構化數據：數值, 表格, ...etc\n",
    "\n",
    "#### 4.你要回答的問題，其如何評估 (tips：你的假設如何驗證)\n",
    "\n",
    "某個時間、地點司機要等多久可以載到客人 → 迴歸問題。\n",
    "「回歸指標」:\n",
    "平均均方誤差(Mean Squared Error, MSE)、\n",
    "平均絕對誤差(Mean Absolute Error, MAE)、\n",
    "平均均方對數誤差(Mean Squared Logarithmic Error, MSLE)"
   ]
  },
  {
   "cell_type": "markdown",
   "metadata": {},
   "source": [
    "# 統計指標實作範例\n",
    "### 常見於迴歸問題的評估指標\n",
    "* Mean Absolute Error (MAE)\n",
    "* Mean Squared Error (MSE)\n",
    "\n",
    "### 常見於分類問題的指標\n",
    "* Binary Cross Entropy (CE)\n",
    "\n",
    "##### 後面的課程還會有更詳細的說明"
   ]
  },
  {
   "cell_type": "markdown",
   "metadata": {},
   "source": [
    "## 【 Note 】\n",
    "\n",
    "* Numpy 是 Python 的一個重要模組，主要用於資料處理上。Numpy 底層以 C 和 Fortran 語言實作，所以能快速操作多重維度的陣列。當 Python 處理龐大資料時，其原生 list 效能表現並不理想，而 Numpy 具備平行處理的能力，可以將操作動作一次套用在大型陣列上。\n",
    "\n",
    "* Matplotlib 是 Python 的視覺化套件。\n",
    "\n",
    "* [Pyplot 參考](http://lijin-thu.github.io/06.%20matplotlib/06.01%20pyplot%20tutorial.html)\n",
    "\n",
    "* 線性方程式：Y=WX+b，我們之所以訓練神經元網路，所要找出最佳w權重值，就是為了找出這一線性分割線，w即為該線斜率，而偏誤項(bias) b為線性方程式的截距，其意義可以看成該分類線距離某分類項(如下圖正類或負類別)的距離，較遠即有較大的偏誤，較近即有較小的偏誤。"
   ]
  },
  {
   "cell_type": "code",
   "execution_count": 2,
   "metadata": {},
   "outputs": [],
   "source": [
    "import numpy as np\n",
    "import matplotlib.pyplot as plt"
   ]
  },
  {
   "cell_type": "code",
   "execution_count": 25,
   "metadata": {
    "scrolled": false
   },
   "outputs": [
    {
     "data": {
      "image/png": "[encoded data removed]",
      "text/plain": [
       "<Figure size 432x288 with 1 Axes>"
      ]
     },
     "metadata": {
      "needs_background": "light"
     },
     "output_type": "display_data"
    }
   ],
   "source": [
    "w = 3\n",
    "b = 0.5\n",
    "\n",
    "# np.linspace(start, stop, num)\n",
    "x_lin = np.linspace(0, 100, 101)    \n",
    "\n",
    "# random with standard normal distribution, N（0，1）\n",
    "y = (x_lin + np.random.randn(101) * 5) * w + b   \n",
    "\n",
    "plt.plot(x_lin, y, 'b.', label = 'data points')   #b. = blue point\n",
    "plt.title(\"Assume we have data points\")\n",
    "plt.legend(loc = 2)  # show label on top left\n",
    "plt.show()"
   ]
  },
  {
   "cell_type": "code",
   "execution_count": 26,
   "metadata": {},
   "outputs": [
    {
     "data": {
      "image/png": "[encoded data removed]",
      "text/plain": [
       "<Figure size 432x288 with 1 Axes>"
      ]
     },
     "metadata": {
      "needs_background": "light"
     },
     "output_type": "display_data"
    }
   ],
   "source": [
    "y_hat = x_lin * w + b\n",
    "plt.plot(x_lin, y, 'b.', label = 'data')\n",
    "plt.plot(x_lin, y_hat, 'r-', label = 'prediction')\n",
    "plt.title(\"Assume we have data points (And the prediction)\")\n",
    "plt.legend(loc = 2)\n",
    "plt.show()"
   ]
  },
  {
   "cell_type": "code",
   "execution_count": 27,
   "metadata": {},
   "outputs": [
    {
     "name": "stdout",
     "output_type": "stream",
     "text": [
      "The Mean absolute error is 11.366\n"
     ]
    }
   ],
   "source": [
    "def mean_absolute_error(y, yp):\n",
    "    \"\"\"\n",
    "    計算 MAE\n",
    "    Args:\n",
    "        - y: 實際值\n",
    "        - yp: 預測值\n",
    "    Return:\n",
    "        - mae: MAE\n",
    "    \"\"\"\n",
    "    mae = MAE = sum(abs(y - yp)) / len(y)\n",
    "    return mae\n",
    "\n",
    "MAE = mean_absolute_error(y, y_hat)\n",
    "print(\"The Mean absolute error is %.3f\" % (MAE))"
   ]
  },
  {
   "cell_type": "markdown",
   "metadata": {},
   "source": [
    "## 練習時間\n",
    "#### 請寫一個函式用來計算 Mean Square Error\n",
    "$ MSE = \\frac{1}{n}\\sum_{i=1}^{n}{(Y_i - \\hat{Y}_i)^2} $\n",
    "\n",
    "#### Hint: [如何取平方](https://googoodesign.gitbooks.io/-ezpython/unit-1.html)"
   ]
  },
  {
   "cell_type": "code",
   "execution_count": 28,
   "metadata": {},
   "outputs": [
    {
     "name": "stdout",
     "output_type": "stream",
     "text": [
      "The Mean squared error is 196.158\n"
     ]
    }
   ],
   "source": [
    "def mean_squared_error(y, yp):\n",
    "    \"\"\"\n",
    "    計算 MSE\n",
    "    Args:\n",
    "        - y: 實際值\n",
    "        - yp: 預測值\n",
    "    Return:\n",
    "        - mse: MSE\n",
    "    \"\"\"\n",
    "    mse = MSE = sum((y - yp)**2) / len(y)\n",
    "    return mse\n",
    "\n",
    "MSE = mean_squared_error(y, y_hat)\n",
    "print(\"The Mean squared error is %.3f\" % (MSE))"
   ]
  }
 ],
 "metadata": {
  "kernelspec": {
   "display_name": "Python 3",
   "language": "python",
   "name": "python3"
  },
  "language_info": {
   "codemirror_mode": {
    "name": "ipython",
    "version": 3
   },
   "file_extension": ".py",
   "mimetype": "text/x-python",
   "name": "python",
   "nbconvert_exporter": "python",
   "pygments_lexer": "ipython3",
   "version": "3.7.3"
  }
 },
 "nbformat": 4,
 "nbformat_minor": 2
}

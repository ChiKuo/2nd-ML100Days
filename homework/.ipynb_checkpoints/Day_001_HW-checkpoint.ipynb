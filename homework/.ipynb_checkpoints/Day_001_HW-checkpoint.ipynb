{
 "cells": [
  {
   "cell_type": "markdown",
   "metadata": {},
   "source": [
    "作業1：\n",
    "\n",
    "請上 Kaggle, 在 Competitions 或 Dataset 中找一組競賽或資料並寫下：\n",
    "\n",
    "1. 你選的這組資料為何重要\n",
    "\n",
    "TMDB 5000 Movie Dataset (https://www.kaggle.com/tmdb/tmdb-movie-metadata)\n",
    "此份資料包括電影名稱、卡司及工作人員，或許可以從中找出一些電影產業的趨勢或是成功的秘訣。\n",
    "\n",
    "2. 資料從何而來 (tips: 譬如提供者是誰、以什麼方式蒐集)\n",
    "\n",
    "The Movie Database API (https://www.themoviedb.org/documentation/api)\n",
    "\n",
    "3. 蒐集而來的資料型態為何\n",
    "\n",
    "結構化數據：數值, 表格, ...etc\n",
    "\n",
    "4. 這組資料想解決的問題如何評估\n",
    "\n",
    "預測電影的受歡迎程度 > 迴歸問題\n",
    "「回歸指標」:\n",
    "平均均方誤差(Mean Squared Error, MSE)\n",
    "平均絕對誤差(Mean Absolute Error, MAE)\n",
    "平均均方對數誤差(Mean Squared Logarithmic Error, MSLE)\n"
   ]
  },
  {
   "cell_type": "code",
   "execution_count": null,
   "metadata": {},
   "outputs": [],
   "source": []
  }
 ],
 "metadata": {
  "kernelspec": {
   "display_name": "Python 3",
   "language": "python",
   "name": "python3"
  },
  "language_info": {
   "codemirror_mode": {
    "name": "ipython",
    "version": 3
   },
   "file_extension": ".py",
   "mimetype": "text/x-python",
   "name": "python",
   "nbconvert_exporter": "python",
   "pygments_lexer": "ipython3",
   "version": "3.7.3"
  }
 },
 "nbformat": 4,
 "nbformat_minor": 2
}
